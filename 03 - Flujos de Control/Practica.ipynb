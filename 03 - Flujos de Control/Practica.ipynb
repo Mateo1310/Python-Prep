{
 "cells": [
  {
   "cell_type": "code",
   "execution_count": 3,
   "metadata": {},
   "outputs": [
    {
     "name": "stdout",
     "output_type": "stream",
     "text": [
      "El numero -2 es menor que cero\n"
     ]
    }
   ],
   "source": [
    "var1 = -2\n",
    "\n",
    "if var1>=0:\n",
    "    print(f\"El numero {var1} es igual o mayor a 0\")\n",
    "else:\n",
    "    print(f\"El numero {var1} es menor que cero\")"
   ]
  },
  {
   "cell_type": "code",
   "execution_count": 6,
   "metadata": {},
   "outputs": [
    {
     "name": "stdout",
     "output_type": "stream",
     "text": [
      "Las variables son del mismo tipo: <class 'int'>\n"
     ]
    }
   ],
   "source": [
    "var1 = 2\n",
    "var2 = 'Mateo'\n",
    "\n",
    "if type(var1)==type(var2):\n",
    "    print(f'Las variables son del mismo tipo: {type(var1)}')\n",
    "else:\n",
    "    print(f'La variable 1 es de tipo: {type(var1)} y la variable 2 es de tipo:{type(var2)}')"
   ]
  },
  {
   "cell_type": "code",
   "execution_count": 9,
   "metadata": {},
   "outputs": [
    {
     "name": "stdout",
     "output_type": "stream",
     "text": [
      "0 = #PAR\n",
      "1 = #IMPAR\n",
      "2 = #PAR\n",
      "3 = #IMPAR\n",
      "4 = #PAR\n",
      "5 = #IMPAR\n",
      "6 = #PAR\n",
      "7 = #IMPAR\n",
      "8 = #PAR\n",
      "9 = #IMPAR\n",
      "10 = #PAR\n",
      "11 = #IMPAR\n",
      "12 = #PAR\n",
      "13 = #IMPAR\n",
      "14 = #PAR\n",
      "15 = #IMPAR\n",
      "16 = #PAR\n",
      "17 = #IMPAR\n",
      "18 = #PAR\n",
      "19 = #IMPAR\n",
      "20 = #PAR\n"
     ]
    }
   ],
   "source": [
    "for num in range(21):\n",
    "    if num%2==0:\n",
    "        print(f'{num} = #PAR')\n",
    "    else:\n",
    "        print(f'{num} = #IMPAR')"
   ]
  },
  {
   "cell_type": "code",
   "execution_count": 13,
   "metadata": {},
   "outputs": [
    {
     "name": "stdout",
     "output_type": "stream",
     "text": [
      "1^3 = 1\n",
      "2^3 = 8\n",
      "3^3 = 27\n",
      "4^3 = 64\n",
      "5^3 = 125\n"
     ]
    }
   ],
   "source": [
    "    for num in range(5):\n",
    "        num +=1\n",
    "        print(f'{num}^3 = {num**3}')"
   ]
  },
  {
   "cell_type": "code",
   "execution_count": 14,
   "metadata": {},
   "outputs": [
    {
     "name": "stdout",
     "output_type": "stream",
     "text": [
      "1\n",
      "2\n",
      "3\n",
      "4\n",
      "5\n"
     ]
    }
   ],
   "source": [
    "var_int=5\n",
    "\n",
    "for num in range(var_int):\n",
    "    num += 1\n",
    "    print(num)"
   ]
  },
  {
   "cell_type": "code",
   "execution_count": 26,
   "metadata": {},
   "outputs": [
    {
     "name": "stdout",
     "output_type": "stream",
     "text": [
      "265252859812191058636308480000000\n"
     ]
    }
   ],
   "source": [
    "var_int=30\n",
    "factorial=1\n",
    "\n",
    "while(var_int>0):\n",
    "    factorial = factorial * var_int\n",
    "    var_int -= 1\n",
    "\n",
    "print(factorial)\n",
    "\n"
   ]
  },
  {
   "cell_type": "code",
   "execution_count": 27,
   "metadata": {},
   "outputs": [
    {
     "name": "stdout",
     "output_type": "stream",
     "text": [
      "265252859812191058636308480000000\n"
     ]
    }
   ],
   "source": [
    "for var_int in range(30,0):\n",
    "    \n",
    "    factorial=1\n",
    "    while(var_int>0):\n",
    "        factorial = factorial * var_int\n",
    "    var_int -= 1\n",
    "\n",
    "print(factorial)"
   ]
  },
  {
   "cell_type": "code",
   "execution_count": 6,
   "metadata": {},
   "outputs": [
    {
     "name": "stdout",
     "output_type": "stream",
     "text": [
      "el numero 2 es primo\n",
      "el numero 3 es primo\n",
      "el numero 5 es primo\n",
      "el numero 7 es primo\n",
      "el numero 11 es primo\n",
      "el numero 13 es primo\n",
      "91\n",
      "37\n"
     ]
    }
   ],
   "source": [
    "contador_ciclos_while=0\n",
    "contador_ciclos_if=0\n",
    "for n in range(0, 14):\n",
    "    x = 1\n",
    "    c = 0\n",
    "    while x <= n:\n",
    "        contador_ciclos_while += 1\n",
    "        if n % x == 0:\n",
    "            contador_ciclos_if += 1\n",
    "            c += 1 \n",
    "        x += 1\n",
    "    \n",
    "    if c == 2:\n",
    "        print(f'el numero {n} es primo')\n",
    "    else:\n",
    "        continue\n",
    "\n",
    "print(contador_ciclos_while)\n",
    "print(contador_ciclos_if)"
   ]
  },
  {
   "cell_type": "code",
   "execution_count": null,
   "metadata": {},
   "outputs": [],
   "source": []
  }
 ],
 "metadata": {
  "interpreter": {
   "hash": "24e93649fb0c0388631dc89c8e1841cd37635e7139e19fac18c1d16e4231ac17"
  },
  "kernelspec": {
   "display_name": "Python 3.10.4 64-bit",
   "language": "python",
   "name": "python3"
  },
  "language_info": {
   "codemirror_mode": {
    "name": "ipython",
    "version": 3
   },
   "file_extension": ".py",
   "mimetype": "text/x-python",
   "name": "python",
   "nbconvert_exporter": "python",
   "pygments_lexer": "ipython3",
   "version": "3.10.4"
  },
  "orig_nbformat": 4
 },
 "nbformat": 4,
 "nbformat_minor": 2
}
