{
 "cells": [
  {
   "cell_type": "code",
   "execution_count": 10,
   "metadata": {},
   "outputs": [
    {
     "name": "stdout",
     "output_type": "stream",
     "text": [
      "['Manizales', 'Villamaria', 'Cali', 'Medellin', 'Bogota', 'Barranquilla']\n"
     ]
    }
   ],
   "source": [
    "ciudades = ['Manizales', 'Villamaria', 'Cali', 'Medellin', 'Bogota', 'Barranquilla']\n",
    "print(ciudades)"
   ]
  },
  {
   "cell_type": "code",
   "execution_count": 11,
   "metadata": {},
   "outputs": [
    {
     "name": "stdout",
     "output_type": "stream",
     "text": [
      "Villamaria\n"
     ]
    }
   ],
   "source": [
    "print(ciudades[1])"
   ]
  },
  {
   "cell_type": "code",
   "execution_count": 12,
   "metadata": {},
   "outputs": [
    {
     "name": "stdout",
     "output_type": "stream",
     "text": [
      "['Villamaria', 'Cali', 'Medellin']\n"
     ]
    }
   ],
   "source": [
    "print(ciudades[1:4])"
   ]
  },
  {
   "cell_type": "code",
   "execution_count": 13,
   "metadata": {},
   "outputs": [
    {
     "name": "stdout",
     "output_type": "stream",
     "text": [
      "<class 'list'>\n"
     ]
    }
   ],
   "source": [
    "print(type(ciudades))"
   ]
  },
  {
   "cell_type": "code",
   "execution_count": 14,
   "metadata": {},
   "outputs": [
    {
     "name": "stdout",
     "output_type": "stream",
     "text": [
      "['Cali', 'Medellin', 'Bogota', 'Barranquilla']\n"
     ]
    }
   ],
   "source": [
    "print(ciudades[2:])"
   ]
  },
  {
   "cell_type": "code",
   "execution_count": 15,
   "metadata": {},
   "outputs": [
    {
     "name": "stdout",
     "output_type": "stream",
     "text": [
      "['Manizales', 'Villamaria', 'Cali', 'Medellin']\n"
     ]
    }
   ],
   "source": [
    "print(ciudades[:4])"
   ]
  },
  {
   "cell_type": "code",
   "execution_count": 27,
   "metadata": {},
   "outputs": [],
   "source": [
    "ciudades.append('Cartagena')\n",
    "ciudades.append('Manizales')\n",
    "\n"
   ]
  },
  {
   "cell_type": "code",
   "execution_count": 28,
   "metadata": {},
   "outputs": [
    {
     "name": "stdout",
     "output_type": "stream",
     "text": [
      "['Manizales', 'Villamaria', 'Cali', 'Pereira', 'Medellin', 'Bogota', 'Barranquilla', 'Madrid', 'Barcelona', 'Valencia', 'Cartagena', 'Manizales']\n"
     ]
    }
   ],
   "source": [
    "print(ciudades)"
   ]
  },
  {
   "cell_type": "code",
   "execution_count": 18,
   "metadata": {},
   "outputs": [],
   "source": [
    "ciudades.insert(3, 'Pereira')"
   ]
  },
  {
   "cell_type": "code",
   "execution_count": 19,
   "metadata": {},
   "outputs": [
    {
     "name": "stdout",
     "output_type": "stream",
     "text": [
      "['Manizales', 'Villamaria', 'Cali', 'Pereira', 'Medellin', 'Bogota', 'Barranquilla', 'Cartagena', 'Manizales']\n"
     ]
    }
   ],
   "source": [
    "print(ciudades)"
   ]
  },
  {
   "cell_type": "code",
   "execution_count": 20,
   "metadata": {},
   "outputs": [
    {
     "name": "stdout",
     "output_type": "stream",
     "text": [
      "['Manizales', 'Villamaria', 'Cali', 'Pereira', 'Medellin', 'Bogota', 'Barranquilla', 'Cartagena', 'Manizales', 'Madrid', 'Barcelona', 'Valencia']\n"
     ]
    }
   ],
   "source": [
    "ciudades.extend(['Madrid', 'Barcelona', 'Valencia'])\n",
    "print(ciudades)"
   ]
  },
  {
   "cell_type": "code",
   "execution_count": 21,
   "metadata": {},
   "outputs": [
    {
     "name": "stdout",
     "output_type": "stream",
     "text": [
      "0\n"
     ]
    }
   ],
   "source": [
    "print(ciudades.index('Manizales'))\n",
    "#Muestra solo el indice de la primera ciudad ingresada"
   ]
  },
  {
   "cell_type": "code",
   "execution_count": 15,
   "metadata": {},
   "outputs": [
    {
     "ename": "ValueError",
     "evalue": "'Porto' is not in list",
     "output_type": "error",
     "traceback": [
      "\u001b[1;31m---------------------------------------------------------------------------\u001b[0m",
      "\u001b[1;31mValueError\u001b[0m                                Traceback (most recent call last)",
      "\u001b[1;32mc:\\Users\\Mateo\\Documents\\VS\\HENRY\\Python-Prep\\04 - Estructuras de datos\\Practica4.ipynb Cell 13'\u001b[0m in \u001b[0;36m<cell line: 1>\u001b[1;34m()\u001b[0m\n\u001b[1;32m----> <a href='vscode-notebook-cell:/c%3A/Users/Mateo/Documents/VS/HENRY/Python-Prep/04%20-%20Estructuras%20de%20datos/Practica4.ipynb#ch0000012?line=0'>1</a>\u001b[0m \u001b[39mprint\u001b[39m(ciudades\u001b[39m.\u001b[39;49mindex(\u001b[39m'\u001b[39;49m\u001b[39mPorto\u001b[39;49m\u001b[39m'\u001b[39;49m))\n",
      "\u001b[1;31mValueError\u001b[0m: 'Porto' is not in list"
     ]
    }
   ],
   "source": [
    "print(ciudades.index('Porto'))\n"
   ]
  },
  {
   "cell_type": "code",
   "execution_count": 22,
   "metadata": {},
   "outputs": [],
   "source": [
    "del(ciudades[8])"
   ]
  },
  {
   "cell_type": "code",
   "execution_count": 23,
   "metadata": {},
   "outputs": [
    {
     "name": "stdout",
     "output_type": "stream",
     "text": [
      "['Manizales', 'Villamaria', 'Cali', 'Pereira', 'Medellin', 'Bogota', 'Barranquilla', 'Cartagena', 'Madrid', 'Barcelona', 'Valencia']\n"
     ]
    }
   ],
   "source": [
    "print(ciudades)"
   ]
  },
  {
   "cell_type": "code",
   "execution_count": 24,
   "metadata": {},
   "outputs": [
    {
     "name": "stdout",
     "output_type": "stream",
     "text": [
      "['Manizales', 'Villamaria', 'Cali', 'Pereira', 'Medellin', 'Bogota', 'Barranquilla', 'Madrid', 'Barcelona', 'Valencia']\n"
     ]
    }
   ],
   "source": [
    "ciudades.remove('Cartagena')\n",
    "print(ciudades)"
   ]
  },
  {
   "cell_type": "code",
   "execution_count": 20,
   "metadata": {},
   "outputs": [
    {
     "name": "stdout",
     "output_type": "stream",
     "text": [
      "Valencia\n"
     ]
    }
   ],
   "source": [
    "x=ciudades.pop()\n",
    "print(x)"
   ]
  },
  {
   "cell_type": "code",
   "execution_count": 25,
   "metadata": {},
   "outputs": [
    {
     "name": "stdout",
     "output_type": "stream",
     "text": [
      "['Manizales', 'Villamaria', 'Cali', 'Pereira', 'Medellin', 'Bogota', 'Barranquilla', 'Madrid', 'Barcelona', 'Valencia', 'Manizales', 'Villamaria', 'Cali', 'Pereira', 'Medellin', 'Bogota', 'Barranquilla', 'Madrid', 'Barcelona', 'Valencia', 'Manizales', 'Villamaria', 'Cali', 'Pereira', 'Medellin', 'Bogota', 'Barranquilla', 'Madrid', 'Barcelona', 'Valencia', 'Manizales', 'Villamaria', 'Cali', 'Pereira', 'Medellin', 'Bogota', 'Barranquilla', 'Madrid', 'Barcelona', 'Valencia']\n"
     ]
    }
   ],
   "source": [
    "print(ciudades*4)"
   ]
  },
  {
   "cell_type": "code",
   "execution_count": 6,
   "metadata": {},
   "outputs": [
    {
     "name": "stdout",
     "output_type": "stream",
     "text": [
      "(11, 12, 13, 14, 15, 16)\n"
     ]
    }
   ],
   "source": [
    "tup = (1,2,3,4,5,6,7,8,9,10,11,12,13,14,15,16,17,18,19,20)\n",
    "print(tup[10:16])"
   ]
  },
  {
   "cell_type": "code",
   "execution_count": 7,
   "metadata": {},
   "outputs": [
    {
     "name": "stdout",
     "output_type": "stream",
     "text": [
      "True\n",
      "False\n"
     ]
    }
   ],
   "source": [
    "print(20 in tup)\n",
    "print(30 in tup)"
   ]
  },
  {
   "cell_type": "markdown",
   "metadata": {},
   "source": [
    "19) Con la lista creada en el punto 1, validar la existencia del elemento 'París' y si no existe, agregarlo. Utilizar una variable e informar lo sucedido."
   ]
  },
  {
   "cell_type": "code",
   "execution_count": 9,
   "metadata": {},
   "outputs": [
    {
     "name": "stdout",
     "output_type": "stream",
     "text": [
      "El elemento Paris ya esta en la lista\n"
     ]
    }
   ],
   "source": [
    "element = 'Paris'\n",
    "\n",
    "if(not(element in ciudades)):\n",
    "    ciudades.append(element)\n",
    "    print('Se inserto el elemento', element)\n",
    "else:\n",
    "    print('El elemento', element, 'ya esta en la lista')"
   ]
  },
  {
   "cell_type": "markdown",
   "metadata": {},
   "source": [
    "20) Mostrar la cantidad de veces que se encuentra un elemento específico dentro de la tupla y de la lista\n"
   ]
  },
  {
   "cell_type": "code",
   "execution_count": 29,
   "metadata": {},
   "outputs": [
    {
     "name": "stdout",
     "output_type": "stream",
     "text": [
      "1\n",
      "2\n"
     ]
    }
   ],
   "source": [
    "print(tup.count(10))\n",
    "print(ciudades.count('Manizales'))"
   ]
  },
  {
   "cell_type": "code",
   "execution_count": 30,
   "metadata": {},
   "outputs": [
    {
     "name": "stdout",
     "output_type": "stream",
     "text": [
      "[1, 2, 3, 4, 5, 6, 7, 8, 9, 10, 11, 12, 13, 14, 15, 16, 17, 18, 19, 20]\n"
     ]
    }
   ],
   "source": [
    "numeros_list = list(tup)\n",
    "print(numeros_list)"
   ]
  },
  {
   "cell_type": "markdown",
   "metadata": {},
   "source": [
    "22) Desempaquetar solo los primeros 3 elementos de la tupla en 3 variables\n"
   ]
  },
  {
   "cell_type": "code",
   "execution_count": 31,
   "metadata": {},
   "outputs": [
    {
     "name": "stdout",
     "output_type": "stream",
     "text": [
      "1\n",
      "2\n",
      "3\n"
     ]
    }
   ],
   "source": [
    "v1, v2, v3 = tup[:3]\n",
    "print(v1)\n",
    "print(v2)\n",
    "print(v3)"
   ]
  },
  {
   "cell_type": "markdown",
   "metadata": {},
   "source": [
    "23) Crear un diccionario utilizando la lista crada en el punto 1, asignandole la clave \"ciudad\". Agregar tambien otras claves, como puede ser \"Pais\" y \"Continente\".\n"
   ]
  },
  {
   "cell_type": "code",
   "execution_count": 37,
   "metadata": {},
   "outputs": [
    {
     "name": "stdout",
     "output_type": "stream",
     "text": [
      "{'Ciudad': ['Manizales', 'Villamaria', 'Cali', 'Pereira', 'Medellin', 'Bogota', 'Barranquilla', 'Madrid', 'Barcelona', 'Valencia', 'Cartagena', 'Manizales'], 'Pais': ['Colombia', 'Peru', 'Panama', 'Venezuela', 'Argentina'], 'Continente': ['America de sur', 'Europa', 'Asia', 'Africa']}\n"
     ]
    }
   ],
   "source": [
    "dicc = { 'Ciudad' : ciudades, \n",
    "         'Pais' : ['Colombia', 'Peru', 'Panama', 'Venezuela', 'Argentina'], \n",
    "         'Continente': ['America de sur', 'Europa', 'Asia', 'Africa']}\n",
    "print(dicc)"
   ]
  },
  {
   "cell_type": "code",
   "execution_count": 38,
   "metadata": {},
   "outputs": [
    {
     "name": "stdout",
     "output_type": "stream",
     "text": [
      "dict_keys(['Ciudad', 'Pais', 'Continente'])\n"
     ]
    }
   ],
   "source": [
    "print(dicc.keys())"
   ]
  },
  {
   "cell_type": "code",
   "execution_count": 40,
   "metadata": {},
   "outputs": [
    {
     "name": "stdout",
     "output_type": "stream",
     "text": [
      "['Manizales', 'Villamaria', 'Cali', 'Pereira', 'Medellin', 'Bogota', 'Barranquilla', 'Madrid', 'Barcelona', 'Valencia', 'Cartagena', 'Manizales']\n"
     ]
    }
   ],
   "source": [
    "print(dicc['Ciudad'])"
   ]
  },
  {
   "cell_type": "code",
   "execution_count": 41,
   "metadata": {},
   "outputs": [
    {
     "data": {
      "text/plain": [
       "dict_values([['Manizales', 'Villamaria', 'Cali', 'Pereira', 'Medellin', 'Bogota', 'Barranquilla', 'Madrid', 'Barcelona', 'Valencia', 'Cartagena', 'Manizales'], ['Colombia', 'Peru', 'Panama', 'Venezuela', 'Argentina'], ['America de sur', 'Europa', 'Asia', 'Africa']])"
      ]
     },
     "execution_count": 41,
     "metadata": {},
     "output_type": "execute_result"
    }
   ],
   "source": [
    "dicc.values()"
   ]
  }
 ],
 "metadata": {
  "interpreter": {
   "hash": "24e93649fb0c0388631dc89c8e1841cd37635e7139e19fac18c1d16e4231ac17"
  },
  "kernelspec": {
   "display_name": "Python 3.10.4 64-bit",
   "language": "python",
   "name": "python3"
  },
  "language_info": {
   "codemirror_mode": {
    "name": "ipython",
    "version": 3
   },
   "file_extension": ".py",
   "mimetype": "text/x-python",
   "name": "python",
   "nbconvert_exporter": "python",
   "pygments_lexer": "ipython3",
   "version": "3.10.4"
  },
  "orig_nbformat": 4
 },
 "nbformat": 4,
 "nbformat_minor": 2
}
